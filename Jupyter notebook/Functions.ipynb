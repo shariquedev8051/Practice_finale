{
 "cells": [
  {
   "cell_type": "markdown",
   "id": "6d94360c",
   "metadata": {},
   "source": [
    "## Functions paradise"
   ]
  },
  {
   "cell_type": "markdown",
   "id": "89302974",
   "metadata": {},
   "source": [
    "#### Find the greatest number from given values"
   ]
  },
  {
   "cell_type": "code",
   "execution_count": null,
   "id": "4f6dd787",
   "metadata": {},
   "outputs": [],
   "source": [
    "# for three variable\n",
    "data = [int(i)\n",
    "        for i in input('Enter the values seprated by sapaces:-').split()]\n",
    "a, b, c = data\n",
    "biggest = a if a > b and a > c else b if b > c else c\n",
    "print(biggest)"
   ]
  },
  {
   "cell_type": "markdown",
   "id": "df3f36d4",
   "metadata": {},
   "source": [
    "#### removing duplicates and sorting the list"
   ]
  },
  {
   "cell_type": "code",
   "execution_count": null,
   "id": "0c7b2520",
   "metadata": {},
   "outputs": [],
   "source": [
    "# from functools import reduce\n",
    "data = [int(i)\n",
    "        for i in input('Enter the values seprated by sapaces:-').split()]\n",
    "print(data)\n",
    "l = list()\n",
    "for element in data:\n",
    "    if element not in l:\n",
    "        l.append(element)\n",
    "\n",
    "\n",
    "def find_greatest_num(index, l_sorted):\n",
    "    \"\"\"To find nth greates number\"\"\"\n",
    "    for i in range(index):\n",
    "        greatest_num = reduce(lambda x, y: x if x > y else y, l_sorted)\n",
    "        l_sorted.remove(greatest_num)\n",
    "    return greatest_num\n",
    "\n",
    "\n",
    "print(find_greatest_num(1, l))"
   ]
  },
  {
   "cell_type": "markdown",
   "id": "0ba083fc",
   "metadata": {},
   "source": [
    "#### To find the execution time"
   ]
  },
  {
   "cell_type": "code",
   "execution_count": 1,
   "id": "bf3925e3",
   "metadata": {},
   "outputs": [
    {
     "name": "stdout",
     "output_type": "stream",
     "text": [
      "2.011704444885254\n"
     ]
    }
   ],
   "source": [
    "from time import time, sleep\n",
    "\n",
    "start_time = time()\n",
    "for i in range(2):\n",
    "    sleep(1)\n",
    "print(time()-start_time)"
   ]
  },
  {
   "cell_type": "markdown",
   "id": "93ebe411",
   "metadata": {},
   "source": [
    "#### command line argument"
   ]
  },
  {
   "cell_type": "code",
   "execution_count": null,
   "id": "4fa63a31",
   "metadata": {},
   "outputs": [],
   "source": [
    "from sys import argv\n",
    "args = argv[1:]"
   ]
  },
  {
   "cell_type": "markdown",
   "id": "38d6c30e",
   "metadata": {},
   "source": [
    "#### To find the substrings"
   ]
  },
  {
   "cell_type": "code",
   "execution_count": 10,
   "id": "bf0628d0",
   "metadata": {},
   "outputs": [
    {
     "name": "stdout",
     "output_type": "stream",
     "text": [
      "Enter string:- aabbbaaaa\n",
      "Enter substring:- ab\n"
     ]
    }
   ],
   "source": [
    "s = input('Enter string:- ')\n",
    "sub = input('Enter substring:- ')"
   ]
  },
  {
   "cell_type": "markdown",
   "id": "ad3b6c1b",
   "metadata": {},
   "source": [
    "##### Returning the indexs"
   ]
  },
  {
   "cell_type": "code",
   "execution_count": 7,
   "id": "6a3b6b75",
   "metadata": {},
   "outputs": [
    {
     "name": "stdout",
     "output_type": "stream",
     "text": [
      "Enter string:- abbabaa\n",
      "Enter substring:- ab\n",
      "Found at position 0\n",
      "Found at position 3\n"
     ]
    }
   ],
   "source": [
    "flag = False\n",
    "pos = -1\n",
    "n = len(s)\n",
    "while True:\n",
    "    pos = s.find(sub, pos+1, n)\n",
    "    if pos == -1:\n",
    "        break\n",
    "    print('Found at position', pos)\n",
    "    flag = True\n",
    "if not flag:\n",
    "    print(\"Not found\")"
   ]
  },
  {
   "cell_type": "markdown",
   "id": "c911d5d5",
   "metadata": {},
   "source": [
    "##### conting the string"
   ]
  },
  {
   "cell_type": "code",
   "execution_count": 12,
   "id": "d30c985c",
   "metadata": {},
   "outputs": [
    {
     "name": "stdout",
     "output_type": "stream",
     "text": [
      "6\n",
      "1\n"
     ]
    }
   ],
   "source": [
    "print(s.count('a'))\n",
    "print(s.count('ab'))"
   ]
  },
  {
   "cell_type": "markdown",
   "id": "5bc747e4",
   "metadata": {},
   "source": [
    "##### Replacing the string"
   ]
  },
  {
   "cell_type": "code",
   "execution_count": 14,
   "id": "7ac18281",
   "metadata": {},
   "outputs": [
    {
     "data": {
      "text/plain": [
       "'Hi world'"
      ]
     },
     "execution_count": 14,
     "metadata": {},
     "output_type": "execute_result"
    }
   ],
   "source": [
    "s = 'Hello world'\n",
    "s.replace('Hello',\"Hi\")"
   ]
  },
  {
   "cell_type": "code",
   "execution_count": null,
   "id": "25b238cb",
   "metadata": {},
   "outputs": [],
   "source": []
  }
 ],
 "metadata": {
  "kernelspec": {
   "display_name": "Python 3 (ipykernel)",
   "language": "python",
   "name": "python3"
  },
  "language_info": {
   "codemirror_mode": {
    "name": "ipython",
    "version": 3
   },
   "file_extension": ".py",
   "mimetype": "text/x-python",
   "name": "python",
   "nbconvert_exporter": "python",
   "pygments_lexer": "ipython3",
   "version": "3.9.7"
  },
  "toc": {
   "base_numbering": 1,
   "nav_menu": {},
   "number_sections": true,
   "sideBar": true,
   "skip_h1_title": false,
   "title_cell": "Table of Contents",
   "title_sidebar": "Contents",
   "toc_cell": false,
   "toc_position": {},
   "toc_section_display": true,
   "toc_window_display": false
  }
 },
 "nbformat": 4,
 "nbformat_minor": 5
}
