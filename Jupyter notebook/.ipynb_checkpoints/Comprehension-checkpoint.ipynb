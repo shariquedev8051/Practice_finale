{
 "cells": [
  {
   "cell_type": "markdown",
   "id": "d4c83a79",
   "metadata": {},
   "source": [
    "## List comprehension"
   ]
  },
  {
   "cell_type": "code",
   "execution_count": null,
   "id": "8c05a2bf",
   "metadata": {},
   "outputs": [],
   "source": [
    "l1 = [i for i in range(10)] # to convert the element into list\n",
    "l1"
   ]
  },
  {
   "cell_type": "code",
   "execution_count": null,
   "id": "8b02bdd3",
   "metadata": {},
   "outputs": [],
   "source": [
    "l1 = [(i,j) for i in range(3) for j in range(2)] # to making tuple pairs\n",
    "l1"
   ]
  },
  {
   "cell_type": "code",
   "execution_count": null,
   "id": "f28e0940",
   "metadata": {},
   "outputs": [],
   "source": [
    "l1 = [(i,i**2,i**3) for i in range(5)] # tuples again\n",
    "l1"
   ]
  },
  {
   "cell_type": "markdown",
   "id": "ed98ebd5",
   "metadata": {},
   "source": [
    "For using multiple interative object using zip"
   ]
  },
  {
   "cell_type": "code",
   "execution_count": null,
   "id": "7122b42f",
   "metadata": {},
   "outputs": [],
   "source": [
    "l1 = [i for i in range(5)]\n",
    "l2 = [c for c in 'abcde']\n",
    "l3 = [(i,j) for i,j in zip(l1,l2)]\n",
    "l3"
   ]
  },
  {
   "cell_type": "markdown",
   "id": "5f68147d",
   "metadata": {},
   "source": [
    "Loss less zip"
   ]
  },
  {
   "cell_type": "code",
   "execution_count": null,
   "id": "bea8cf8d",
   "metadata": {},
   "outputs": [],
   "source": [
    "from itertools import zip_longest\n",
    "l1 = [i for i in range(10)]\n",
    "l2 = [c for c in 'abcde']\n",
    "l3 = [(i,j) for i,j in zip_longest(l1,l2,fillvalue='Defualt')] # things replaced by Default as filler value\n",
    "l3 = [(i,j) for i,j in zip_longest(l1,l2)] # default value is none \n",
    "l3"
   ]
  },
  {
   "cell_type": "markdown",
   "id": "f0186279",
   "metadata": {},
   "source": [
    "Checking condtions"
   ]
  },
  {
   "cell_type": "markdown",
   "id": "cdebf383",
   "metadata": {},
   "source": [
    "Filter function"
   ]
  },
  {
   "cell_type": "code",
   "execution_count": 11,
   "id": "8eb69264",
   "metadata": {},
   "outputs": [
    {
     "data": {
      "text/plain": [
       "[0, 2, 4, 6, 8, 10, 12, 14]"
      ]
     },
     "execution_count": 11,
     "metadata": {},
     "output_type": "execute_result"
    }
   ],
   "source": [
    "l1 = [i for i in range(15)]\n",
    "list(filter(lambda x: x%2==0,l1))"
   ]
  },
  {
   "cell_type": "markdown",
   "id": "3a904b10",
   "metadata": {},
   "source": [
    "Map function"
   ]
  },
  {
   "cell_type": "code",
   "execution_count": 12,
   "id": "17f2a849",
   "metadata": {},
   "outputs": [
    {
     "data": {
      "text/plain": [
       "['Smaller then 7',\n",
       " 'Smaller then 7',\n",
       " 'Smaller then 7',\n",
       " 'Smaller then 7',\n",
       " 'Smaller then 7',\n",
       " 'Smaller then 7',\n",
       " 'Smaller then 7',\n",
       " 'greater than 7',\n",
       " 'greater than 7',\n",
       " 'greater than 7',\n",
       " 'greater than 7',\n",
       " 'greater than 7',\n",
       " 'greater than 7',\n",
       " 'greater than 7',\n",
       " 'greater than 7']"
      ]
     },
     "execution_count": 12,
     "metadata": {},
     "output_type": "execute_result"
    }
   ],
   "source": [
    "l1 = [i for i in range(15)]\n",
    "list(map(lambda x:\"Smaller then 7\" if x<7 else'greater than 7',l1))"
   ]
  },
  {
   "cell_type": "markdown",
   "id": "4c021672",
   "metadata": {},
   "source": [
    "Reduce functon\n"
   ]
  },
  {
   "cell_type": "code",
   "execution_count": 14,
   "id": "c28e6d14",
   "metadata": {},
   "outputs": [
    {
     "data": {
      "text/plain": [
       "105"
      ]
     },
     "execution_count": 14,
     "metadata": {},
     "output_type": "execute_result"
    }
   ],
   "source": [
    "from functools import reduce\n",
    "l1 = [i for i in range(15)]\n",
    "reduce(lambda x,y:x+y,l1)"
   ]
  },
  {
   "cell_type": "markdown",
   "id": "c85cd3a6",
   "metadata": {},
   "source": [
    "## Dictionary comprehension"
   ]
  },
  {
   "cell_type": "markdown",
   "id": "6d942db7",
   "metadata": {},
   "source": [
    "Dictionary comprehension"
   ]
  },
  {
   "cell_type": "code",
   "execution_count": 18,
   "id": "2ca56b79",
   "metadata": {},
   "outputs": [
    {
     "data": {
      "text/plain": [
       "{0: 'a', 1: 'b', 2: 'c', 3: 'd', 4: 'e', 5: 'f', 6: 'g'}"
      ]
     },
     "execution_count": 18,
     "metadata": {},
     "output_type": "execute_result"
    }
   ],
   "source": [
    "l1 = [i for i in range(10)]\n",
    "l2 = [c for c in 'abcdefg']\n",
    "{k:v for (k,v) in zip(l1,l2)}\n"
   ]
  },
  {
   "cell_type": "markdown",
   "id": "154360d6",
   "metadata": {},
   "source": [
    "Dictionary comprehension zip_longest\n",
    "\n"
   ]
  },
  {
   "cell_type": "code",
   "execution_count": 19,
   "id": "6573d905",
   "metadata": {},
   "outputs": [
    {
     "data": {
      "text/plain": [
       "{0: 'a',\n",
       " 1: 'b',\n",
       " 2: 'c',\n",
       " 3: 'd',\n",
       " 4: 'e',\n",
       " 5: 'f',\n",
       " 6: 'g',\n",
       " 7: None,\n",
       " 8: None,\n",
       " 9: None}"
      ]
     },
     "execution_count": 19,
     "metadata": {},
     "output_type": "execute_result"
    }
   ],
   "source": [
    "from itertools import zip_longest\n",
    "l1 = [i for i in range(10)]\n",
    "l2 = [c for c in 'abcdefg']\n",
    "{k:v for (k,v) in zip_longest(l1,l2)}"
   ]
  }
 ],
 "metadata": {
  "kernelspec": {
   "display_name": "Python 3 (ipykernel)",
   "language": "python",
   "name": "python3"
  },
  "language_info": {
   "codemirror_mode": {
    "name": "ipython",
    "version": 3
   },
   "file_extension": ".py",
   "mimetype": "text/x-python",
   "name": "python",
   "nbconvert_exporter": "python",
   "pygments_lexer": "ipython3",
   "version": "3.9.7"
  },
  "toc": {
   "base_numbering": 1,
   "nav_menu": {},
   "number_sections": true,
   "sideBar": true,
   "skip_h1_title": false,
   "title_cell": "Table of Contents",
   "title_sidebar": "Contents",
   "toc_cell": false,
   "toc_position": {},
   "toc_section_display": true,
   "toc_window_display": false
  }
 },
 "nbformat": 4,
 "nbformat_minor": 5
}
