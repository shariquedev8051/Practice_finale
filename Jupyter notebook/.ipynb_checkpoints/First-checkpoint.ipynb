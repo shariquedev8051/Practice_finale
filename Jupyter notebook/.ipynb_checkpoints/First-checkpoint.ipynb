{
 "cells": [
  {
   "cell_type": "code",
   "execution_count": 3,
   "id": "6fb1e01c",
   "metadata": {},
   "outputs": [
    {
     "name": "stdout",
     "output_type": "stream",
     "text": [
      "Enter the number:- 25\n"
     ]
    }
   ],
   "source": [
    "from math import sqrt\n",
    "num = int(input('Enter the number:- '))\n",
    "sqrt_value = int(sqrt(num))"
   ]
  },
  {
   "cell_type": "markdown",
   "id": "32adf8d2",
   "metadata": {
    "variables": {
     "int(sqrt(num))": "5",
     "num": "25"
    }
   },
   "source": [
    "The square root of {{num}} is {{int(sqrt(num))}}."
   ]
  },
  {
   "cell_type": "code",
   "execution_count": 4,
   "id": "377dea98",
   "metadata": {},
   "outputs": [],
   "source": [
    "l1 = [1,2,3,4]\n",
    "l2 = [1,2,3,4]\n",
    "t1 = (1,2,3,4)\n",
    "t1 = (1,2,3,4)"
   ]
  },
  {
   "cell_type": "markdown",
   "id": "7b9851be",
   "metadata": {},
   "source": []
  }
 ],
 "metadata": {
  "kernelspec": {
   "display_name": "Python 3 (ipykernel)",
   "language": "python",
   "name": "python3"
  },
  "language_info": {
   "codemirror_mode": {
    "name": "ipython",
    "version": 3
   },
   "file_extension": ".py",
   "mimetype": "text/x-python",
   "name": "python",
   "nbconvert_exporter": "python",
   "pygments_lexer": "ipython3",
   "version": "3.9.7"
  },
  "toc": {
   "base_numbering": 1,
   "nav_menu": {},
   "number_sections": true,
   "sideBar": true,
   "skip_h1_title": false,
   "title_cell": "Table of Contents",
   "title_sidebar": "Contents",
   "toc_cell": false,
   "toc_position": {},
   "toc_section_display": true,
   "toc_window_display": false
  }
 },
 "nbformat": 4,
 "nbformat_minor": 5
}
