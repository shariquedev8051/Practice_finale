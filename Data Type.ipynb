{
 "cells": [
  {
   "cell_type": "markdown",
   "id": "41879d46",
   "metadata": {},
   "source": [
    "# Data Types"
   ]
  },
  {
   "cell_type": "markdown",
   "id": "4a3ceb39",
   "metadata": {},
   "source": [
    "## SET"
   ]
  },
  {
   "cell_type": "markdown",
   "id": "a727ab7e",
   "metadata": {},
   "source": [
    "Adding element in sets"
   ]
  },
  {
   "cell_type": "code",
   "execution_count": 2,
   "id": "c28598b2",
   "metadata": {},
   "outputs": [
    {
     "data": {
      "text/plain": [
       "{0, 1, 2, 3, 4, 5, 6, 7, 8, 9, 10, 11, 12, 13, 14, 15, 16, 17, 18, 19}"
      ]
     },
     "execution_count": 2,
     "metadata": {},
     "output_type": "execute_result"
    }
   ],
   "source": [
    "set1 = {i for i in range(20)}\n",
    "set1.add(2)\n",
    "set1"
   ]
  },
  {
   "cell_type": "markdown",
   "id": "bd23f2bd",
   "metadata": {},
   "source": [
    "Removind element from SET"
   ]
  },
  {
   "cell_type": "code",
   "execution_count": null,
   "id": "30e8b273",
   "metadata": {},
   "outputs": [],
   "source": [
    "set1.remove(2)\n",
    "set1"
   ]
  },
  {
   "cell_type": "markdown",
   "id": "6c723fed",
   "metadata": {},
   "source": [
    "Discarding will remove element but won't raise any error element not present in set"
   ]
  },
  {
   "cell_type": "code",
   "execution_count": 4,
   "id": "ad6c1a40",
   "metadata": {},
   "outputs": [],
   "source": [
    "set1.discard(2)"
   ]
  },
  {
   "cell_type": "markdown",
   "id": "5ff006c3",
   "metadata": {},
   "source": [
    "# Operators"
   ]
  },
  {
   "cell_type": "markdown",
   "id": "d389258a",
   "metadata": {},
   "source": [
    "## Arithmatic operators"
   ]
  },
  {
   "cell_type": "code",
   "execution_count": 10,
   "id": "76852a24",
   "metadata": {},
   "outputs": [
    {
     "name": "stdout",
     "output_type": "stream",
     "text": [
      "a/b = 3.3333333333333335\n",
      "a//b = 3\n",
      "a%b = 2\n"
     ]
    }
   ],
   "source": [
    "a,b =20,6\n",
    "print('a/b =',a/b)\n",
    "print('a//b =',a//b)\n",
    "print('a%b =',a%b)"
   ]
  },
  {
   "cell_type": "code",
   "execution_count": 13,
   "id": "b45919e9",
   "metadata": {},
   "outputs": [],
   "source": [
    "a=30\n",
    "b=30"
   ]
  },
  {
   "cell_type": "markdown",
   "id": "43d5c220",
   "metadata": {
    "variables": {
     "a+b": "60"
    }
   },
   "source": [
    "sum of a and b is {{a+b}}"
   ]
  }
 ],
 "metadata": {
  "kernelspec": {
   "display_name": "Python 3 (ipykernel)",
   "language": "python",
   "name": "python3"
  },
  "language_info": {
   "codemirror_mode": {
    "name": "ipython",
    "version": 3
   },
   "file_extension": ".py",
   "mimetype": "text/x-python",
   "name": "python",
   "nbconvert_exporter": "python",
   "pygments_lexer": "ipython3",
   "version": "3.9.7"
  },
  "toc": {
   "base_numbering": 1,
   "nav_menu": {},
   "number_sections": true,
   "sideBar": true,
   "skip_h1_title": false,
   "title_cell": "Table of Contents",
   "title_sidebar": "Contents",
   "toc_cell": false,
   "toc_position": {},
   "toc_section_display": true,
   "toc_window_display": false
  }
 },
 "nbformat": 4,
 "nbformat_minor": 5
}
